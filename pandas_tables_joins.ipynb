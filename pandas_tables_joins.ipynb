{
 "cells": [
  {
   "cell_type": "markdown",
   "id": "82ff0371",
   "metadata": {},
   "source": [
    "## Joining tables\n",
    "In  pandas two tables can joins mainly 4 types:\n",
    "1. inner joins `pd.merge(df1,df2,on = 'city', how = 'inner')   # how = 'inner' default value`\n",
    "2. outer joins `pd.merge(df1,df2,on = 'city', how = 'outer')`\n",
    "3. left joins `pd.merge(df1,df2,on = 'city', how = 'left')`\n",
    "4. right joins `pd.merge(df1,df2,on = 'city', how = 'right')`"
   ]
  },
  {
   "cell_type": "code",
   "execution_count": 37,
   "id": "6aff2319",
   "metadata": {},
   "outputs": [
    {
     "data": {
      "text/html": [
       "<div>\n",
       "<style scoped>\n",
       "    .dataframe tbody tr th:only-of-type {\n",
       "        vertical-align: middle;\n",
       "    }\n",
       "\n",
       "    .dataframe tbody tr th {\n",
       "        vertical-align: top;\n",
       "    }\n",
       "\n",
       "    .dataframe thead th {\n",
       "        text-align: right;\n",
       "    }\n",
       "</style>\n",
       "<table border=\"1\" class=\"dataframe\">\n",
       "  <thead>\n",
       "    <tr style=\"text-align: right;\">\n",
       "      <th></th>\n",
       "      <th>city</th>\n",
       "      <th>Temperature</th>\n",
       "    </tr>\n",
       "  </thead>\n",
       "  <tbody>\n",
       "    <tr>\n",
       "      <th>0</th>\n",
       "      <td>Delhi</td>\n",
       "      <td>38</td>\n",
       "    </tr>\n",
       "    <tr>\n",
       "      <th>1</th>\n",
       "      <td>Mumbai</td>\n",
       "      <td>32</td>\n",
       "    </tr>\n",
       "    <tr>\n",
       "      <th>2</th>\n",
       "      <td>Chennai</td>\n",
       "      <td>35</td>\n",
       "    </tr>\n",
       "  </tbody>\n",
       "</table>\n",
       "</div>"
      ],
      "text/plain": [
       "      city  Temperature\n",
       "0    Delhi           38\n",
       "1   Mumbai           32\n",
       "2  Chennai           35"
      ]
     },
     "execution_count": 37,
     "metadata": {},
     "output_type": "execute_result"
    }
   ],
   "source": [
    "import pandas as pd\n",
    "\n",
    "df1 = pd.DataFrame({'city': ['Delhi', 'Mumbai', 'Chennai'], 'Temperature': [38, 32, 35]})\n",
    "df2 = pd.DataFrame({'city': ['Mumbai', 'Delhi', 'Bangalore'], 'Humidity': [22, 48, 55]})\n",
    "df1"
   ]
  },
  {
   "cell_type": "code",
   "execution_count": 38,
   "id": "e7cdafb5",
   "metadata": {},
   "outputs": [
    {
     "data": {
      "text/html": [
       "<div>\n",
       "<style scoped>\n",
       "    .dataframe tbody tr th:only-of-type {\n",
       "        vertical-align: middle;\n",
       "    }\n",
       "\n",
       "    .dataframe tbody tr th {\n",
       "        vertical-align: top;\n",
       "    }\n",
       "\n",
       "    .dataframe thead th {\n",
       "        text-align: right;\n",
       "    }\n",
       "</style>\n",
       "<table border=\"1\" class=\"dataframe\">\n",
       "  <thead>\n",
       "    <tr style=\"text-align: right;\">\n",
       "      <th></th>\n",
       "      <th>city</th>\n",
       "      <th>Humidity</th>\n",
       "    </tr>\n",
       "  </thead>\n",
       "  <tbody>\n",
       "    <tr>\n",
       "      <th>0</th>\n",
       "      <td>Mumbai</td>\n",
       "      <td>22</td>\n",
       "    </tr>\n",
       "    <tr>\n",
       "      <th>1</th>\n",
       "      <td>Delhi</td>\n",
       "      <td>48</td>\n",
       "    </tr>\n",
       "    <tr>\n",
       "      <th>2</th>\n",
       "      <td>Bangalore</td>\n",
       "      <td>55</td>\n",
       "    </tr>\n",
       "  </tbody>\n",
       "</table>\n",
       "</div>"
      ],
      "text/plain": [
       "        city  Humidity\n",
       "0     Mumbai        22\n",
       "1      Delhi        48\n",
       "2  Bangalore        55"
      ]
     },
     "execution_count": 38,
     "metadata": {},
     "output_type": "execute_result"
    }
   ],
   "source": [
    "df2"
   ]
  },
  {
   "cell_type": "code",
   "execution_count": 39,
   "id": "f90037b6",
   "metadata": {},
   "outputs": [
    {
     "data": {
      "text/html": [
       "<div>\n",
       "<style scoped>\n",
       "    .dataframe tbody tr th:only-of-type {\n",
       "        vertical-align: middle;\n",
       "    }\n",
       "\n",
       "    .dataframe tbody tr th {\n",
       "        vertical-align: top;\n",
       "    }\n",
       "\n",
       "    .dataframe thead th {\n",
       "        text-align: right;\n",
       "    }\n",
       "</style>\n",
       "<table border=\"1\" class=\"dataframe\">\n",
       "  <thead>\n",
       "    <tr style=\"text-align: right;\">\n",
       "      <th></th>\n",
       "      <th>city</th>\n",
       "      <th>Temperature</th>\n",
       "      <th>Humidity</th>\n",
       "    </tr>\n",
       "  </thead>\n",
       "  <tbody>\n",
       "    <tr>\n",
       "      <th>0</th>\n",
       "      <td>Delhi</td>\n",
       "      <td>38</td>\n",
       "      <td>48</td>\n",
       "    </tr>\n",
       "    <tr>\n",
       "      <th>1</th>\n",
       "      <td>Mumbai</td>\n",
       "      <td>32</td>\n",
       "      <td>22</td>\n",
       "    </tr>\n",
       "  </tbody>\n",
       "</table>\n",
       "</div>"
      ],
      "text/plain": [
       "     city  Temperature  Humidity\n",
       "0   Delhi           38        48\n",
       "1  Mumbai           32        22"
      ]
     },
     "execution_count": 39,
     "metadata": {},
     "output_type": "execute_result"
    }
   ],
   "source": [
    "pd.merge(df1,df2)"
   ]
  },
  {
   "cell_type": "code",
   "execution_count": 40,
   "id": "fd5fa1d7",
   "metadata": {},
   "outputs": [
    {
     "data": {
      "text/html": [
       "<div>\n",
       "<style scoped>\n",
       "    .dataframe tbody tr th:only-of-type {\n",
       "        vertical-align: middle;\n",
       "    }\n",
       "\n",
       "    .dataframe tbody tr th {\n",
       "        vertical-align: top;\n",
       "    }\n",
       "\n",
       "    .dataframe thead th {\n",
       "        text-align: right;\n",
       "    }\n",
       "</style>\n",
       "<table border=\"1\" class=\"dataframe\">\n",
       "  <thead>\n",
       "    <tr style=\"text-align: right;\">\n",
       "      <th></th>\n",
       "      <th>city</th>\n",
       "      <th>Temperature</th>\n",
       "      <th>Humidity</th>\n",
       "    </tr>\n",
       "  </thead>\n",
       "  <tbody>\n",
       "    <tr>\n",
       "      <th>0</th>\n",
       "      <td>Delhi</td>\n",
       "      <td>38</td>\n",
       "      <td>48</td>\n",
       "    </tr>\n",
       "    <tr>\n",
       "      <th>1</th>\n",
       "      <td>Mumbai</td>\n",
       "      <td>32</td>\n",
       "      <td>22</td>\n",
       "    </tr>\n",
       "  </tbody>\n",
       "</table>\n",
       "</div>"
      ],
      "text/plain": [
       "     city  Temperature  Humidity\n",
       "0   Delhi           38        48\n",
       "1  Mumbai           32        22"
      ]
     },
     "execution_count": 40,
     "metadata": {},
     "output_type": "execute_result"
    }
   ],
   "source": [
    "pd.merge(df1,df2, on = 'city', how = 'inner')"
   ]
  },
  {
   "cell_type": "markdown",
   "id": "e8c3b7f5",
   "metadata": {},
   "source": [
    "## inner joins\n",
    "An inner join returns only the matching rows from both data frames based on the common column, which is 'city' in this case. Since 'Chennai' and 'Bangalore' are not present in both data frames, those rows will be excluded from the result."
   ]
  },
  {
   "cell_type": "code",
   "execution_count": 46,
   "id": "16ed85aa",
   "metadata": {},
   "outputs": [
    {
     "data": {
      "text/html": [
       "<div>\n",
       "<style scoped>\n",
       "    .dataframe tbody tr th:only-of-type {\n",
       "        vertical-align: middle;\n",
       "    }\n",
       "\n",
       "    .dataframe tbody tr th {\n",
       "        vertical-align: top;\n",
       "    }\n",
       "\n",
       "    .dataframe thead th {\n",
       "        text-align: right;\n",
       "    }\n",
       "</style>\n",
       "<table border=\"1\" class=\"dataframe\">\n",
       "  <thead>\n",
       "    <tr style=\"text-align: right;\">\n",
       "      <th></th>\n",
       "      <th>city</th>\n",
       "      <th>Temperature</th>\n",
       "      <th>Humidity</th>\n",
       "    </tr>\n",
       "  </thead>\n",
       "  <tbody>\n",
       "    <tr>\n",
       "      <th>0</th>\n",
       "      <td>Delhi</td>\n",
       "      <td>38</td>\n",
       "      <td>48</td>\n",
       "    </tr>\n",
       "    <tr>\n",
       "      <th>1</th>\n",
       "      <td>Mumbai</td>\n",
       "      <td>32</td>\n",
       "      <td>22</td>\n",
       "    </tr>\n",
       "  </tbody>\n",
       "</table>\n",
       "</div>"
      ],
      "text/plain": [
       "     city  Temperature  Humidity\n",
       "0   Delhi           38        48\n",
       "1  Mumbai           32        22"
      ]
     },
     "execution_count": 46,
     "metadata": {},
     "output_type": "execute_result"
    }
   ],
   "source": [
    "# pd.merge(df1,df2,on= 'city')\n",
    "pd.merge(df1,df2,on= 'city',how = 'inner')"
   ]
  },
  {
   "cell_type": "markdown",
   "id": "09585850",
   "metadata": {},
   "source": [
    "## outer joins\n",
    "An outer join returns all rows from both data frames, filling in missing values with NaN (null) if there is no match based on the common column."
   ]
  },
  {
   "cell_type": "code",
   "execution_count": 48,
   "id": "4bde3e05",
   "metadata": {},
   "outputs": [
    {
     "data": {
      "text/html": [
       "<div>\n",
       "<style scoped>\n",
       "    .dataframe tbody tr th:only-of-type {\n",
       "        vertical-align: middle;\n",
       "    }\n",
       "\n",
       "    .dataframe tbody tr th {\n",
       "        vertical-align: top;\n",
       "    }\n",
       "\n",
       "    .dataframe thead th {\n",
       "        text-align: right;\n",
       "    }\n",
       "</style>\n",
       "<table border=\"1\" class=\"dataframe\">\n",
       "  <thead>\n",
       "    <tr style=\"text-align: right;\">\n",
       "      <th></th>\n",
       "      <th>city</th>\n",
       "      <th>Temperature</th>\n",
       "      <th>Humidity</th>\n",
       "    </tr>\n",
       "  </thead>\n",
       "  <tbody>\n",
       "    <tr>\n",
       "      <th>0</th>\n",
       "      <td>Delhi</td>\n",
       "      <td>38.0</td>\n",
       "      <td>48.0</td>\n",
       "    </tr>\n",
       "    <tr>\n",
       "      <th>1</th>\n",
       "      <td>Mumbai</td>\n",
       "      <td>32.0</td>\n",
       "      <td>22.0</td>\n",
       "    </tr>\n",
       "    <tr>\n",
       "      <th>2</th>\n",
       "      <td>Chennai</td>\n",
       "      <td>35.0</td>\n",
       "      <td>NaN</td>\n",
       "    </tr>\n",
       "    <tr>\n",
       "      <th>3</th>\n",
       "      <td>Bangalore</td>\n",
       "      <td>NaN</td>\n",
       "      <td>55.0</td>\n",
       "    </tr>\n",
       "  </tbody>\n",
       "</table>\n",
       "</div>"
      ],
      "text/plain": [
       "        city  Temperature  Humidity\n",
       "0      Delhi         38.0      48.0\n",
       "1     Mumbai         32.0      22.0\n",
       "2    Chennai         35.0       NaN\n",
       "3  Bangalore          NaN      55.0"
      ]
     },
     "execution_count": 48,
     "metadata": {},
     "output_type": "execute_result"
    }
   ],
   "source": [
    "pd.merge(df1,df2,on = 'city', how = 'outer')"
   ]
  },
  {
   "cell_type": "markdown",
   "id": "84b8f137",
   "metadata": {},
   "source": [
    "## left joins\n",
    "A left join returns all rows from the left data frame (df1) and the matching rows from the right data frame (df2). If there is no match, the missing values are filled with NaN."
   ]
  },
  {
   "cell_type": "code",
   "execution_count": null,
   "id": "bb9f4f25",
   "metadata": {},
   "outputs": [],
   "source": [
    "pd.merge(df1,df2, on = 'city',how = 'left')"
   ]
  },
  {
   "cell_type": "markdown",
   "id": "8ef81f50",
   "metadata": {},
   "source": [
    "\n",
    "## right joins\n",
    "A right join returns all rows from the right data frame (df2) and the matching rows from the left data frame (df1). If there is no match, the missing values are filled with NaN."
   ]
  },
  {
   "cell_type": "code",
   "execution_count": 45,
   "id": "9561a142",
   "metadata": {},
   "outputs": [],
   "source": [
    "pd.merge(df1,df2, on = 'city',how = 'right')"
   ]
  },
  {
   "cell_type": "code",
   "execution_count": null,
   "id": "9c37d0d1",
   "metadata": {},
   "outputs": [],
   "source": []
  },
  {
   "cell_type": "code",
   "execution_count": 49,
   "id": "be82260a-189d-441f-a02e-98e0e618a99e",
   "metadata": {},
   "outputs": [
    {
     "data": {
      "image/png": "[encoded data removed]",
      "text/plain": [
       "<Figure size 640x480 with 3 Axes>"
      ]
     },
     "metadata": {},
     "output_type": "display_data"
    }
   ],
   "source": [
    "import numpy as np\n",
    "import matplotlib.pyplot as plt\n",
    "from matplotlib.widgets import Slider\n",
    "\n",
    "class RelativisticVelocitySimulation:\n",
    "    def __init__(self, speed_of_light):\n",
    "        self.speed_of_light = speed_of_light\n",
    "\n",
    "    def velocity_addition(self, u, v):\n",
    "        sum_vel = (u + v) / (1 + (u * v / self.speed_of_light ** 2))\n",
    "        return sum_vel\n",
    "\n",
    "    def update_plot(self, val):\n",
    "        u = slider_u.val\n",
    "        v = slider_v.val\n",
    "        sum_vel = self.velocity_addition(u, v)\n",
    "        line.set_ydata(sum_vel)\n",
    "        plt.draw()\n",
    "\n",
    "# Example usage:\n",
    "speed_of_light = 299792458  # Speed of light in m/s\n",
    "\n",
    "relativity = RelativisticVelocitySimulation(speed_of_light)\n",
    "\n",
    "u_max = 0.9 * speed_of_light  # Maximum velocity (90% of the speed of light)\n",
    "v = 0.5 * speed_of_light  # Velocity of the second object (50% of the speed of light)\n",
    "\n",
    "fig, ax = plt.subplots()\n",
    "plt.subplots_adjust(bottom=0.25)\n",
    "ax.set_xlabel(\"Velocity (u)\")\n",
    "ax.set_ylabel(\"Sum of Velocities\")\n",
    "ax.set_title(\"Relativistic Velocity Addition\")\n",
    "\n",
    "u_values = np.linspace(0, u_max, 1000)\n",
    "sum_velocities = [relativity.velocity_addition(u, v) for u in u_values]\n",
    "\n",
    "line, = plt.plot(u_values, sum_velocities)\n",
    "\n",
    "axcolor = 'lightgoldenrodyellow'\n",
    "ax_u = plt.axes([0.2, 0.1, 0.65, 0.03], facecolor=axcolor)\n",
    "ax_v = plt.axes([0.2, 0.15, 0.65, 0.03], facecolor=axcolor)\n",
    "\n",
    "slider_u = Slider(ax_u, 'Velocity (u)', 0, u_max, valinit=0)\n",
    "slider_v = Slider(ax_v, 'Velocity (v)', 0, u_max, valinit=v)\n",
    "\n",
    "slider_u.on_changed(relativity.update_plot)\n",
    "slider_v.on_changed(relativity.update_plot)\n",
    "\n",
    "plt.show()\n"
   ]
  },
  {
   "cell_type": "code",
   "execution_count": null,
   "id": "cb24cebc-01c5-4a11-bec7-65ab05e1f89e",
   "metadata": {},
   "outputs": [],
   "source": []
  },
  {
   "cell_type": "code",
   "execution_count": null,
   "id": "fae93444-80fa-4a8d-b835-1aa7b26a6f1f",
   "metadata": {},
   "outputs": [],
   "source": []
  },
  {
   "cell_type": "code",
   "execution_count": null,
   "id": "ed68ddc8-0b8e-49da-a5b9-f1e7c05a1590",
   "metadata": {},
   "outputs": [],
   "source": []
  }
 ],
 "metadata": {
  "kernelspec": {
   "display_name": "Python 3 (ipykernel)",
   "language": "python",
   "name": "python3"
  },
  "language_info": {
   "codemirror_mode": {
    "name": "ipython",
    "version": 3
   },
   "file_extension": ".py",
   "mimetype": "text/x-python",
   "name": "python",
   "nbconvert_exporter": "python",
   "pygments_lexer": "ipython3",
   "version": "3.9.13"
  }
 },
 "nbformat": 4,
 "nbformat_minor": 5
}
